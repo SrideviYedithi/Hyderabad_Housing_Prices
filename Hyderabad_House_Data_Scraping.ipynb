{
 "cells": [
  {
   "cell_type": "code",
   "execution_count": 1,
   "metadata": {
    "colab": {},
    "colab_type": "code",
    "id": "MX_3f4rgXYSl"
   },
   "outputs": [],
   "source": [
    "import re\n",
    "import time\n",
    "import pandas as pd\n",
    "from bs4 import BeautifulSoup\n",
    "from urllib.request import urlopen,Request\n",
    "headers = ({'User-Agent':\n",
    "            'Mozilla/5.0 (Windows NT 6.1) AppleWebKit/537.36 (KHTML, like Gecko) Chrome/41.0.2228.0 Safari/537.36'})\n",
    "url = \"https://www.magicbricks.com/property-for-rent/residential-real-estate?proptype=Multistorey-Apartment,Builder-Floor-Apartment,Penthouse,Studio-Apartment,Service-Apartment&cityName=Hyderabad&BudgetMin=5000&BudgetMax=50000&page=\""
   ]
  },
  {
   "cell_type": "code",
   "execution_count": 2,
   "metadata": {
    "colab": {},
    "colab_type": "code",
    "id": "YmJ4mSkKXfqZ"
   },
   "outputs": [],
   "source": [
    "def house_price_scraper(url,headers):\n",
    "    #count = 0\n",
    "    request = Request(url, headers=headers)\n",
    "    response = urlopen(request)\n",
    "    html = response.read()\n",
    "    html_soup = BeautifulSoup(html , 'html.parser')\n",
    "    house_container = html_soup.find_all('div', class_ = 'flex relative clearfix m-srp-card__container' )\n",
    "    for container in range(len(house_container)) :\n",
    "        #print(count)\n",
    "        first  = house_container[container].find_all('span')\n",
    "        second = house_container[container].find_all('div',class_ = 'm-srp-card__summary__info')\n",
    "        #Price of the Flat\n",
    "        Price_  = first[1].text.replace('\\n','')\n",
    "        Price.append((Price_))\n",
    "        #No of Bedrooms\n",
    "        Bedrooms_   = first[3].text.replace('\\n','')\n",
    "        Bedrooms.append((Bedrooms_))\n",
    "        #No of Bathrooms\n",
    "        try:\n",
    "            Bathrooms_  = second[4].text.replace('\\n','')\n",
    "            Bathrooms.append(Bathrooms_)\n",
    "        except :\n",
    "            Bathrooms.append('NaN')\n",
    "        # Area of the house in Sqft\n",
    "        try:\n",
    "            Area_       = first[4].text.replace('\\n','')\n",
    "            Area.append((Area_))\n",
    "        except:\n",
    "            Area.append(('NaN'))\n",
    "        # Type of Furnishing i.e Semi-Furnished or Fully Furnished\n",
    "        Furnishing_ = second[1].text.replace('\\n','')\n",
    "        Furnishing.append(Furnishing_)\n",
    "        # Preferred Tennants i.e Bachelors or Family or Both\n",
    "        try:\n",
    "            Tennants_   = second[2].text.replace('\\n','')\n",
    "            Tennants.append(Tennants_)\n",
    "        except:\n",
    "            Tennants.append('NaN')\n",
    "        #Locality where the Flat is located\n",
    "        Locality_0  = house_container[container].find_all('span')[2]\n",
    "        Locality_1 = Locality_0.text.replace('\\n',' ')\n",
    "        Locality_2 = re.search(r'in(.+?)\\d', Locality_1)\n",
    "        if Locality_2 is None :\n",
    "            Locality_2 = re.search(r'in(.+?),',Locality_1)\n",
    "        if Locality_2 is None :\n",
    "            Locality_2 = re.search(r'in(.+?) ',Locality_1)\n",
    "        Locality_  = Locality_2[1]\n",
    "        Locality.append(Locality_)\n",
    "        #print((Locality_))\n",
    "        \n",
    "        \n",
    "    # Making the Data frame out of the scraped columns\n",
    "    cols = ['Bedrooms', 'Bathrooms', 'Furnishing', 'Tennants', 'Area', 'Price','Locality']\n",
    "\n",
    "    house_data = pd.DataFrame({'Bedrooms': Bedrooms,\n",
    "                               'Bathrooms': Bathrooms,\n",
    "                               'Furnishing': Furnishing,\n",
    "                               'Tennants': Tennants,\n",
    "                               'Area': Area,\n",
    "                               'Price': Price,\n",
    "                               'Locality':Locality})[cols]\n",
    "    return house_data"
   ]
  },
  {
   "cell_type": "code",
   "execution_count": 3,
   "metadata": {
    "colab": {},
    "colab_type": "code",
    "id": "AEw2hY9HYxUw"
   },
   "outputs": [],
   "source": [
    "Bedrooms = []\n",
    "Bathrooms = []\n",
    "Furnishing = []\n",
    "Tennants = []\n",
    "Locality = []\n",
    "Area = []\n",
    "Price = []"
   ]
  },
  {
   "cell_type": "code",
   "execution_count": 4,
   "metadata": {
    "colab": {},
    "colab_type": "code",
    "id": "5LeCbnRlYEfv"
   },
   "outputs": [],
   "source": [
    "for i in range(1,40):\n",
    "    url_ = url+str(i)\n",
    "    house_data = house_price_scraper(url_,headers)"
   ]
  },
  {
   "cell_type": "code",
   "execution_count": 5,
   "metadata": {
    "colab": {
     "base_uri": "https://localhost:8080/",
     "height": 156
    },
    "colab_type": "code",
    "id": "ce7wspT4YHd2",
    "outputId": "87df353f-22b2-48d5-d635-df2add35ded2"
   },
   "outputs": [
    {
     "data": {
      "text/plain": [
       "Bedrooms      1171\n",
       "Bathrooms     1171\n",
       "Furnishing    1171\n",
       "Tennants      1171\n",
       "Area          1171\n",
       "Price         1171\n",
       "Locality      1171\n",
       "dtype: int64"
      ]
     },
     "execution_count": 5,
     "metadata": {},
     "output_type": "execute_result"
    }
   ],
   "source": [
    "house_data.count()"
   ]
  },
  {
   "cell_type": "code",
   "execution_count": 6,
   "metadata": {
    "colab": {},
    "colab_type": "code",
    "id": "4KIntLJ-RGPH"
   },
   "outputs": [],
   "source": [
    "house_data.to_csv('magics_brics_data.csv')"
   ]
  }
 ],
 "metadata": {
  "accelerator": "GPU",
  "colab": {
   "name": "Untitled1.ipynb",
   "provenance": []
  },
  "kernelspec": {
   "display_name": "Python 3",
   "language": "python",
   "name": "python3"
  },
  "language_info": {
   "codemirror_mode": {
    "name": "ipython",
    "version": 3
   },
   "file_extension": ".py",
   "mimetype": "text/x-python",
   "name": "python",
   "nbconvert_exporter": "python",
   "pygments_lexer": "ipython3",
   "version": "3.6.8"
  }
 },
 "nbformat": 4,
 "nbformat_minor": 1
}
